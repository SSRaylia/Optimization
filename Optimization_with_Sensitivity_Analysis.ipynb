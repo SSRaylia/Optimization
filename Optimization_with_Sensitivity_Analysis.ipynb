{
  "nbformat": 4,
  "nbformat_minor": 0,
  "metadata": {
    "colab": {
      "name": "Optimization with Sensitivity Analysis",
      "version": "0.3.2",
      "provenance": [],
      "collapsed_sections": [],
      "include_colab_link": true
    },
    "kernelspec": {
      "name": "python3",
      "display_name": "Python 3"
    }
  },
  "cells": [
    {
      "cell_type": "markdown",
      "metadata": {
        "id": "view-in-github",
        "colab_type": "text"
      },
      "source": [
        "<a href=\"https://colab.research.google.com/github/SSRaylia/Optimization/blob/master/Optimization_with_Sensitivity_Analysis.ipynb\" target=\"_parent\"><img src=\"https://colab.research.google.com/assets/colab-badge.svg\" alt=\"Open In Colab\"/></a>"
      ]
    },
    {
      "cell_type": "markdown",
      "metadata": {
        "id": "Sowg7NS4ZYbR",
        "colab_type": "text"
      },
      "source": [
        "# BackGround"
      ]
    },
    {
      "cell_type": "markdown",
      "metadata": {
        "id": "rE0AiKLKYm0I",
        "colab_type": "text"
      },
      "source": [
        " **Assume for Washington Post, the Sports section gets six million views per day and the National section get five million views per day. Assume four companies, GEICO, Delta, T-Mobile and Capital One, wish to advertise on the Sports and National sections.**\n",
        " \n",
        "**For each company, the contract specifies the number of times its display ads are shown in these two sections. The contracts sometimes also specify a total number of page views that can originate from any section of the newspaper as below. Assume that the contract also specifies that The Washington Post receives 2.40 dollar per click-through from each of the four companies. However, not every page view leads to a click. If every 1000 views leads to 5 clicks, the click-through rate is 0.5%.**"
      ]
    },
    {
      "cell_type": "markdown",
      "metadata": {
        "id": "lAI5NR7FZfw7",
        "colab_type": "text"
      },
      "source": [
        "![替代文字](https://raw.githubusercontent.com/SSRaylia/Optimization/master/Capture.PNG)"
      ]
    },
    {
      "cell_type": "markdown",
      "metadata": {
        "id": "eF5tIKHLaAC3",
        "colab_type": "text"
      },
      "source": [
        "# A. Specify the Optimization Problem"
      ]
    },
    {
      "cell_type": "markdown",
      "metadata": {
        "id": "Fjv5KBW6rXY2",
        "colab_type": "text"
      },
      "source": [
        "The objective is to maximize advertising revenues. These revenues are driven by the cost per click charged to the advertisers and the click-through rates (CTR).\n",
        "\n",
        "Let $\\kappa_{ij}$ be the CTR of advertiser $i$ in category $j$. The objective function is thus:\n",
        "\\begin{equation}\n",
        "Maximize \\quad 2.4\\times \\sum_{i=1}^4\\sum_{j=1}^{2}  \\kappa_{ij}\\times x_{ij}\n",
        "\\end{equation}\n",
        "\n",
        "\n",
        "\n",
        "Constraints are as belows:\n",
        "\n",
        "\\begin{align}\n",
        "x_{11}&\\geq 2,000,000\\\\\n",
        "x_{12}&\\geq 1,000,000\\\\\n",
        "x_{22}&\\geq 1,000,000\\\\\n",
        "x_{21}+x_{22}&\\geq 2,000,000\\\\\n",
        "x_{31}&\\geq 1,000,000\\\\\n",
        "x_{32}&\\geq 1,000,000\\\\\n",
        "x_{31}+x_{32}&\\geq 3,000,000\\\\\n",
        "x_{41}+x_{42}&\\geq 2,000,000\\\\\n",
        "\\end{align}\n",
        "\n",
        "\"Assume that the Sports section gets six million views per day and the National section\n",
        "get five million views per day\"\n",
        "This statement gives two constraints:\n",
        "\\begin{align}\n",
        "\\sum_{i=1}^{4}x_{i1}&\\leq 6,000,000\\\\\n",
        "\\sum_{i=1}^{4}x_{i2}&\\leq 5,000,000\\\\\n",
        "\\end{align}\n",
        "\n",
        "Non-negativity constraints are\n",
        "\\begin{equation}\n",
        "x_{ij}\\geq 0\n",
        "\\end{equation}"
      ]
    },
    {
      "cell_type": "markdown",
      "metadata": {
        "id": "zvCYL-XhsIfq",
        "colab_type": "text"
      },
      "source": [
        "# B. Find the optimal solution with all the decision variables and the optimal objective function value."
      ]
    },
    {
      "cell_type": "code",
      "metadata": {
        "id": "TtTtax3K-oMG",
        "colab_type": "code",
        "outputId": "6f92c4e6-f086-4604-8377-c40b43fc04a3",
        "colab": {
          "base_uri": "https://localhost:8080/",
          "height": 306
        }
      },
      "source": [
        "import math\n",
        "import numpy as np\n",
        "import pandas as pd\n",
        "from cvxopt import matrix\n",
        "from cvxopt.modeling import variable\n",
        "from cvxopt.modeling import op\n",
        "# Definition of the Variables\n",
        "x11 = variable(1,'Geico Sports')\n",
        "x12 = variable(1,'Geico National')\n",
        "x21 = variable(1,'Delta Sports')\n",
        "x22 = variable(1,'Delta National')\n",
        "x31 = variable(1,'T-Mobile Sports')\n",
        "x32 = variable(1,'T-Mobile National')\n",
        "x41 = variable(1,'Capital One Sports')\n",
        "x42 = variable(1,'Capital One National')\n",
        "\n",
        "# Definition of the Constraints\n",
        "c1=( x11>= 2000000 )\n",
        "c2=( x12>= 1000000 )\n",
        "c3=( x22>= 1000000 )\n",
        "c4=( x21+x22>= 2000000 )\n",
        "c5=(x31>=1000000)\n",
        "c6=(x32>=1000000)\n",
        "c7=(x31+x32>=3000000)\n",
        "c8=(x41+x42>=2000000)\n",
        "c9=(x11+x21+x31+x41<=6000000)\n",
        "c10=(x12+x22+x32+x42<=5000000)\n",
        "c11=(x21>=0)\n",
        "c12=(x41>=0)\n",
        "c13=(x42>=0)\n",
        "\n",
        "#Definition of the Objective Function\n",
        "k11=2.5/100\n",
        "k12=0.8/100\n",
        "k21=2.0/100\n",
        "k22=1.0/100\n",
        "k31=1.0/100\n",
        "k32=3.0/100\n",
        "k41=1.5/100\n",
        "k42=2.0/100\n",
        "\n",
        "#Revenue is called \"OF\" for \"Objective Function\" \n",
        "OF=( k11*x11 + k12*x12+ k21*x21 + k22*x22 + k31*x31+ k32*x32+k41*x41+k42*x42)*2.4\n",
        "\n",
        "#Solving the problem\n",
        "OA=op(-OF,[c1,c2,c3,c4,c5,c6,c7,c8,c9,c10,c11,c12,c13]) #op() is from cvxopt.modeling, first you define the objective function nd then the set of constraints\n",
        "OA.solve()\n",
        "\n",
        "def mk_df(vars):\n",
        "  \"\"\"Make dataframe from solved variables\"\"\"\n",
        "  records = {}\n",
        "  for var in vars:\n",
        "    out = np.array(var.value)\n",
        "    value = out.tolist()[0].pop()\n",
        "    print(value)\n",
        "    records[var.name] = [value]\n",
        "  df = pd.DataFrame(records)\n",
        "  return df\n",
        "df = mk_df(vars = [x11, x12, x21, x22, x31, x32, x41, x42])\n"
      ],
      "execution_count": 0,
      "outputs": [
        {
          "output_type": "stream",
          "text": [
            "     pcost       dcost       gap    pres   dres   k/t\n",
            " 0: -4.3515e+05  1.6295e+06  1e+07  2e-01  3e+00  1e+00\n",
            " 1: -4.4973e+05 -2.5474e+05  5e+05  1e-02  2e-01  2e+04\n",
            " 2: -4.8857e+05 -4.5508e+05  7e+04  2e-03  4e-02  5e+03\n",
            " 3: -5.1563e+05 -5.0745e+05  2e+04  5e-04  8e-03  1e+03\n",
            " 4: -5.2301e+05 -5.2284e+05  3e+02  1e-05  2e-04  2e+01\n",
            " 5: -5.2320e+05 -5.2320e+05  3e+00  1e-07  2e-06  2e-01\n",
            " 6: -5.2320e+05 -5.2320e+05  3e-02  1e-09  2e-08  2e-03\n",
            "Optimal solution found.\n",
            "2858687.107708355\n",
            "1000000.0314623648\n",
            "1000000.5005051724\n",
            "1000000.0479613038\n",
            "1000000.1039695219\n",
            "2141312.0561706545\n",
            "1141312.2662753903\n",
            "858687.8398167578\n"
          ],
          "name": "stdout"
        }
      ]
    },
    {
      "cell_type": "code",
      "metadata": {
        "id": "AOG5Do5luT6Q",
        "colab_type": "code",
        "outputId": "74fc0c94-5b80-4853-faa5-360613ccfe6d",
        "colab": {
          "base_uri": "https://localhost:8080/",
          "height": 165
        }
      },
      "source": [
        "print(\"The optimal objective function value is:\")\n",
        "print((-OA.objective.value()))\n",
        "print(\"The value of the decision variables are:\")\n",
        "df.head()"
      ],
      "execution_count": 0,
      "outputs": [
        {
          "output_type": "stream",
          "text": [
            "The optimal objective function value is:\n",
            "[ 5.23e+05]\n",
            "\n",
            "The value of the decision variables are:\n"
          ],
          "name": "stdout"
        },
        {
          "output_type": "execute_result",
          "data": {
            "text/html": [
              "<div>\n",
              "<style scoped>\n",
              "    .dataframe tbody tr th:only-of-type {\n",
              "        vertical-align: middle;\n",
              "    }\n",
              "\n",
              "    .dataframe tbody tr th {\n",
              "        vertical-align: top;\n",
              "    }\n",
              "\n",
              "    .dataframe thead th {\n",
              "        text-align: right;\n",
              "    }\n",
              "</style>\n",
              "<table border=\"1\" class=\"dataframe\">\n",
              "  <thead>\n",
              "    <tr style=\"text-align: right;\">\n",
              "      <th></th>\n",
              "      <th>Geico Sports</th>\n",
              "      <th>Geico National</th>\n",
              "      <th>Delta Sports</th>\n",
              "      <th>Delta National</th>\n",
              "      <th>T-Mobile Sports</th>\n",
              "      <th>T-Mobile National</th>\n",
              "      <th>Capital One Sports</th>\n",
              "      <th>Capital One National</th>\n",
              "    </tr>\n",
              "  </thead>\n",
              "  <tbody>\n",
              "    <tr>\n",
              "      <th>0</th>\n",
              "      <td>2.858687e+06</td>\n",
              "      <td>1.000000e+06</td>\n",
              "      <td>1.000001e+06</td>\n",
              "      <td>1.000000e+06</td>\n",
              "      <td>1.000000e+06</td>\n",
              "      <td>2.141312e+06</td>\n",
              "      <td>1.141312e+06</td>\n",
              "      <td>858687.839817</td>\n",
              "    </tr>\n",
              "  </tbody>\n",
              "</table>\n",
              "</div>"
            ],
            "text/plain": [
              "   Geico Sports  Geico National  Delta Sports  Delta National  \\\n",
              "0  2.858687e+06    1.000000e+06  1.000001e+06    1.000000e+06   \n",
              "\n",
              "   T-Mobile Sports  T-Mobile National  Capital One Sports  \\\n",
              "0     1.000000e+06       2.141312e+06        1.141312e+06   \n",
              "\n",
              "   Capital One National  \n",
              "0         858687.839817  "
            ]
          },
          "metadata": {
            "tags": []
          },
          "execution_count": 2
        }
      ]
    },
    {
      "cell_type": "markdown",
      "metadata": {
        "id": "sHrBCUJBstv_",
        "colab_type": "text"
      },
      "source": [
        "# C. One Step Further on Checking Sensitivity (Assume Only One Section Changes at a Time )"
      ]
    },
    {
      "cell_type": "markdown",
      "metadata": {
        "id": "s8IBIUJjaboh",
        "colab_type": "text"
      },
      "source": [
        "![替代文字](https://raw.githubusercontent.com/SSRaylia/Optimization/master/Capture2.PNG)"
      ]
    },
    {
      "cell_type": "code",
      "metadata": {
        "id": "6CXITYEtJ8Ap",
        "colab_type": "code",
        "colab": {}
      },
      "source": [
        "result = np.array([[1,2,3],[1,2,3],[1,2,3],[1,2,3],[1,2,3],[1,2,3],[1,2,3],[1,2,3]])"
      ],
      "execution_count": 0,
      "outputs": []
    },
    {
      "cell_type": "code",
      "metadata": {
        "id": "-htJzoZjJkbx",
        "colab_type": "code",
        "outputId": "70bd6a88-fb89-4387-e0e5-2c3aec2cf5b1",
        "colab": {
          "base_uri": "https://localhost:8080/",
          "height": 153
        }
      },
      "source": [
        "#Definition of the Objective Function\n",
        "k11=2.5/100\n",
        "k12=0.8/100\n",
        "k21=2.0/100\n",
        "k22=1.0/100\n",
        "k31=1.0/100\n",
        "k32=3.0/100\n",
        "k41=1.5/100\n",
        "k42=2.0/100\n",
        "\n",
        "for i in [0,1,2]:\n",
        "  k11 = (2+i*0.5)/100\n",
        "  OF=( k11*x11 + k12*x12+ k21*x21 + k22*x22 + k31*x31+ k32*x32+k41*x41+k42*x42)*2.4\n",
        "  OA=op(-OF,[c1,c2,c3,c4,c5,c6,c7,c8,c9,c10,c11,c12,c13])\n",
        "  result[0,i] = int(np.array(-OA.objective.value()))\n",
        "result"
      ],
      "execution_count": 0,
      "outputs": [
        {
          "output_type": "execute_result",
          "data": {
            "text/plain": [
              "array([[488895, 523199, 557504],\n",
              "       [     1,      2,      3],\n",
              "       [     1,      2,      3],\n",
              "       [     1,      2,      3],\n",
              "       [     1,      2,      3],\n",
              "       [     1,      2,      3],\n",
              "       [     1,      2,      3],\n",
              "       [     1,      2,      3]])"
            ]
          },
          "metadata": {
            "tags": []
          },
          "execution_count": 4
        }
      ]
    },
    {
      "cell_type": "code",
      "metadata": {
        "id": "gwua_hXcRsv0",
        "colab_type": "code",
        "outputId": "360a7c6c-e233-4a0f-a191-b82fbb499702",
        "colab": {
          "base_uri": "https://localhost:8080/",
          "height": 153
        }
      },
      "source": [
        "#Definition of the Objective Function\n",
        "k11=2.5/100\n",
        "k12=0.8/100\n",
        "k21=2.0/100\n",
        "k22=1.0/100\n",
        "k31=1.0/100\n",
        "k32=3.0/100\n",
        "k41=1.5/100\n",
        "k42=2.0/100\n",
        "\n",
        "for i in [0,1,2]:\n",
        "  k12 = (0.1+i*0.5)/100\n",
        "  OF=( k11*x11 + k12*x12+ k21*x21 + k22*x22 + k31*x31+ k32*x32+k41*x41+k42*x42)*2.4\n",
        "  OA=op(-OF,[c1,c2,c3,c4,c5,c6,c7,c8,c9,c10,c11,c12,c13])\n",
        "  result[1,i] = int(np.array(-OA.objective.value()))\n",
        "result"
      ],
      "execution_count": 0,
      "outputs": [
        {
          "output_type": "execute_result",
          "data": {
            "text/plain": [
              "array([[488895, 523199, 557504],\n",
              "       [506399, 518399, 530399],\n",
              "       [     1,      2,      3],\n",
              "       [     1,      2,      3],\n",
              "       [     1,      2,      3],\n",
              "       [     1,      2,      3],\n",
              "       [     1,      2,      3],\n",
              "       [     1,      2,      3]])"
            ]
          },
          "metadata": {
            "tags": []
          },
          "execution_count": 5
        }
      ]
    },
    {
      "cell_type": "code",
      "metadata": {
        "id": "VqXGF7LwSKSk",
        "colab_type": "code",
        "outputId": "d541648f-ae3d-4ad0-ab70-fce96691815a",
        "colab": {
          "base_uri": "https://localhost:8080/",
          "height": 153
        }
      },
      "source": [
        "#Definition of the Objective Function\n",
        "k11=2.5/100\n",
        "k12=0.8/100\n",
        "k21=2.0/100\n",
        "k22=1.0/100\n",
        "k31=1.0/100\n",
        "k32=3.0/100\n",
        "k41=1.5/100\n",
        "k42=2.0/100\n",
        "\n",
        "for i in [0,1,2]:\n",
        "  k21 = (1.5+i*0.5)/100\n",
        "  OF=( k11*x11 + k12*x12+ k21*x21 + k22*x22 + k31*x31+ k32*x32+k41*x41+k42*x42)*2.4\n",
        "  OA=op(-OF,[c1,c2,c3,c4,c5,c6,c7,c8,c9,c10,c11,c12,c13])\n",
        "  result[2,i] = int(np.array(-OA.objective.value()))\n",
        "result"
      ],
      "execution_count": 0,
      "outputs": [
        {
          "output_type": "execute_result",
          "data": {
            "text/plain": [
              "array([[488895, 523199, 557504],\n",
              "       [506399, 518399, 530399],\n",
              "       [511199, 523199, 535199],\n",
              "       [     1,      2,      3],\n",
              "       [     1,      2,      3],\n",
              "       [     1,      2,      3],\n",
              "       [     1,      2,      3],\n",
              "       [     1,      2,      3]])"
            ]
          },
          "metadata": {
            "tags": []
          },
          "execution_count": 6
        }
      ]
    },
    {
      "cell_type": "code",
      "metadata": {
        "id": "VBtb7GbISP8m",
        "colab_type": "code",
        "outputId": "bb1b9ed7-e5bb-4349-ec81-21d7d82ff64c",
        "colab": {
          "base_uri": "https://localhost:8080/",
          "height": 153
        }
      },
      "source": [
        "#Definition of the Objective Function\n",
        "k11=2.5/100\n",
        "k12=0.8/100\n",
        "k21=2.0/100\n",
        "k22=1.0/100\n",
        "k31=1.0/100\n",
        "k32=3.0/100\n",
        "k41=1.5/100\n",
        "k42=2.0/100\n",
        "\n",
        "for i in [0,1,2]:\n",
        "  k22 = (0.5+i*0.5)/100\n",
        "  OF=( k11*x11 + k12*x12+ k21*x21 + k22*x22 + k31*x31+ k32*x32+k41*x41+k42*x42)*2.4\n",
        "  OA=op(-OF,[c1,c2,c3,c4,c5,c6,c7,c8,c9,c10,c11,c12,c13])\n",
        "  result[3,i] = int(np.array(-OA.objective.value()))\n",
        "result"
      ],
      "execution_count": 0,
      "outputs": [
        {
          "output_type": "execute_result",
          "data": {
            "text/plain": [
              "array([[488895, 523199, 557504],\n",
              "       [506399, 518399, 530399],\n",
              "       [511199, 523199, 535199],\n",
              "       [511199, 523199, 535199],\n",
              "       [     1,      2,      3],\n",
              "       [     1,      2,      3],\n",
              "       [     1,      2,      3],\n",
              "       [     1,      2,      3]])"
            ]
          },
          "metadata": {
            "tags": []
          },
          "execution_count": 7
        }
      ]
    },
    {
      "cell_type": "code",
      "metadata": {
        "id": "JYMa5BH4SXij",
        "colab_type": "code",
        "outputId": "620187c0-9eb1-4303-e282-5e83d83c324c",
        "colab": {
          "base_uri": "https://localhost:8080/",
          "height": 153
        }
      },
      "source": [
        "#Definition of the Objective Function\n",
        "k11=2.5/100\n",
        "k12=0.8/100\n",
        "k21=2.0/100\n",
        "k22=1.0/100\n",
        "k31=1.0/100\n",
        "k32=3.0/100\n",
        "k41=1.5/100\n",
        "k42=2.0/100\n",
        "\n",
        "for i in [0,1,2]:\n",
        "  k31 = (0.5+i*0.5)/100\n",
        "  OF=( k11*x11 + k12*x12+ k21*x21 + k22*x22 + k31*x31+ k32*x32+k41*x41+k42*x42)*2.4\n",
        "  OA=op(-OF,[c1,c2,c3,c4,c5,c6,c7,c8,c9,c10,c11,c12,c13])\n",
        "  result[4,i] = int(np.array(-OA.objective.value()))\n",
        "result"
      ],
      "execution_count": 0,
      "outputs": [
        {
          "output_type": "execute_result",
          "data": {
            "text/plain": [
              "array([[488895, 523199, 557504],\n",
              "       [506399, 518399, 530399],\n",
              "       [511199, 523199, 535199],\n",
              "       [511199, 523199, 535199],\n",
              "       [511199, 523199, 535199],\n",
              "       [     1,      2,      3],\n",
              "       [     1,      2,      3],\n",
              "       [     1,      2,      3]])"
            ]
          },
          "metadata": {
            "tags": []
          },
          "execution_count": 8
        }
      ]
    },
    {
      "cell_type": "code",
      "metadata": {
        "id": "SIK5KWcfTizr",
        "colab_type": "code",
        "outputId": "7faaf433-f06d-4c9f-9ad6-5c1f961d64c4",
        "colab": {
          "base_uri": "https://localhost:8080/",
          "height": 153
        }
      },
      "source": [
        "#Definition of the Objective Function\n",
        "k11=2.5/100\n",
        "k12=0.8/100\n",
        "k21=2.0/100\n",
        "k22=1.0/100\n",
        "k31=1.0/100\n",
        "k32=3.0/100\n",
        "k41=1.5/100\n",
        "k42=2.0/100\n",
        "\n",
        "for i in [0,1,2]:\n",
        "  k32 = (2.5+i*0.5)/100\n",
        "  OF=( k11*x11 + k12*x12+ k21*x21 + k22*x22 + k31*x31+ k32*x32+k41*x41+k42*x42)*2.4\n",
        "  OA=op(-OF,[c1,c2,c3,c4,c5,c6,c7,c8,c9,c10,c11,c12,c13])\n",
        "  result[5,i] = int(np.array(-OA.objective.value()))\n",
        "result"
      ],
      "execution_count": 0,
      "outputs": [
        {
          "output_type": "execute_result",
          "data": {
            "text/plain": [
              "array([[488895, 523199, 557504],\n",
              "       [506399, 518399, 530399],\n",
              "       [511199, 523199, 535199],\n",
              "       [511199, 523199, 535199],\n",
              "       [511199, 523199, 535199],\n",
              "       [497504, 523199, 548895],\n",
              "       [     1,      2,      3],\n",
              "       [     1,      2,      3]])"
            ]
          },
          "metadata": {
            "tags": []
          },
          "execution_count": 9
        }
      ]
    },
    {
      "cell_type": "code",
      "metadata": {
        "id": "2y-tTn9uTmkv",
        "colab_type": "code",
        "outputId": "2e2ec6a2-f19f-4c79-9775-d98074c556b2",
        "colab": {
          "base_uri": "https://localhost:8080/",
          "height": 153
        }
      },
      "source": [
        "#Definition of the Objective Function\n",
        "k11=2.5/100\n",
        "k12=0.8/100\n",
        "k21=2.0/100\n",
        "k22=1.0/100\n",
        "k31=1.0/100\n",
        "k32=3.0/100\n",
        "k41=1.5/100\n",
        "k42=2.0/100\n",
        "\n",
        "for i in [0,1,2]:\n",
        "  k41 = (1.5+i*0.5)/100\n",
        "  OF=( k11*x11 + k12*x12+ k21*x21 + k22*x22 + k31*x31+ k32*x32+k41*x41+k42*x42)*2.4\n",
        "  OA=op(-OF,[c1,c2,c3,c4,c5,c6,c7,c8,c9,c10,c11,c12,c13])\n",
        "  result[6,i] = int(np.array(-OA.objective.value()))\n",
        "result"
      ],
      "execution_count": 0,
      "outputs": [
        {
          "output_type": "execute_result",
          "data": {
            "text/plain": [
              "array([[488895, 523199, 557504],\n",
              "       [506399, 518399, 530399],\n",
              "       [511199, 523199, 535199],\n",
              "       [511199, 523199, 535199],\n",
              "       [511199, 523199, 535199],\n",
              "       [497504, 523199, 548895],\n",
              "       [523199, 536895, 550591],\n",
              "       [     1,      2,      3]])"
            ]
          },
          "metadata": {
            "tags": []
          },
          "execution_count": 10
        }
      ]
    },
    {
      "cell_type": "code",
      "metadata": {
        "id": "YU77Xdz4TqMg",
        "colab_type": "code",
        "outputId": "549e089b-dd88-415e-eb8a-0f1e606f1de8",
        "colab": {
          "base_uri": "https://localhost:8080/",
          "height": 153
        }
      },
      "source": [
        "#Definition of the Objective Function\n",
        "k11=2.5/100\n",
        "k12=0.8/100\n",
        "k21=2.0/100\n",
        "k22=1.0/100\n",
        "k31=1.0/100\n",
        "k32=3.0/100\n",
        "k41=1.5/100\n",
        "k42=2.0/100\n",
        "\n",
        "for i in [0,1,2]:\n",
        "  k42 = (1.5+i*0.5)/100\n",
        "  OF=( k11*x11 + k12*x12+ k21*x21 + k22*x22 + k31*x31+ k32*x32+k41*x41+k42*x42)*2.4\n",
        "  OA=op(-OF,[c1,c2,c3,c4,c5,c6,c7,c8,c9,c10,c11,c12,c13])\n",
        "  result[7,i] = int(np.array(-OA.objective.value()))\n",
        "result"
      ],
      "execution_count": 0,
      "outputs": [
        {
          "output_type": "execute_result",
          "data": {
            "text/plain": [
              "array([[488895, 523199, 557504],\n",
              "       [506399, 518399, 530399],\n",
              "       [511199, 523199, 535199],\n",
              "       [511199, 523199, 535199],\n",
              "       [511199, 523199, 535199],\n",
              "       [497504, 523199, 548895],\n",
              "       [523199, 536895, 550591],\n",
              "       [512895, 523199, 533504]])"
            ]
          },
          "metadata": {
            "tags": []
          },
          "execution_count": 11
        }
      ]
    },
    {
      "cell_type": "code",
      "metadata": {
        "id": "oEUMwX_8u7CS",
        "colab_type": "code",
        "outputId": "eced0d5e-9c62-43d5-d48b-2d3fb57df389",
        "colab": {
          "base_uri": "https://localhost:8080/",
          "height": 34
        }
      },
      "source": [
        "result[0,2]-result[0,0]"
      ],
      "execution_count": 0,
      "outputs": [
        {
          "output_type": "execute_result",
          "data": {
            "text/plain": [
              "68609"
            ]
          },
          "metadata": {
            "tags": []
          },
          "execution_count": 12
        }
      ]
    },
    {
      "cell_type": "code",
      "metadata": {
        "id": "iPhnGAk6wUQI",
        "colab_type": "code",
        "outputId": "c0df00f2-9dfe-4c9f-e03a-20a828463ba0",
        "colab": {
          "base_uri": "https://localhost:8080/",
          "height": 34
        }
      },
      "source": [
        "result[1,2]-result[1,0]"
      ],
      "execution_count": 0,
      "outputs": [
        {
          "output_type": "execute_result",
          "data": {
            "text/plain": [
              "24000"
            ]
          },
          "metadata": {
            "tags": []
          },
          "execution_count": 13
        }
      ]
    },
    {
      "cell_type": "code",
      "metadata": {
        "id": "vd6muQAEwWfl",
        "colab_type": "code",
        "outputId": "2f6d76b1-3f41-4cbb-eea6-3351b7ece763",
        "colab": {
          "base_uri": "https://localhost:8080/",
          "height": 34
        }
      },
      "source": [
        "result[2,2]-result[2,0]"
      ],
      "execution_count": 0,
      "outputs": [
        {
          "output_type": "execute_result",
          "data": {
            "text/plain": [
              "24000"
            ]
          },
          "metadata": {
            "tags": []
          },
          "execution_count": 14
        }
      ]
    },
    {
      "cell_type": "code",
      "metadata": {
        "id": "EhglljexwYAR",
        "colab_type": "code",
        "outputId": "ec66bf4b-63d7-4e0a-c9a8-edc70353e7d0",
        "colab": {
          "base_uri": "https://localhost:8080/",
          "height": 34
        }
      },
      "source": [
        "result[3,2]-result[3,0]"
      ],
      "execution_count": 0,
      "outputs": [
        {
          "output_type": "execute_result",
          "data": {
            "text/plain": [
              "24000"
            ]
          },
          "metadata": {
            "tags": []
          },
          "execution_count": 15
        }
      ]
    },
    {
      "cell_type": "code",
      "metadata": {
        "id": "pyM14ohxwbpJ",
        "colab_type": "code",
        "outputId": "94c816ef-b67c-4615-a20c-d1bb237a35dd",
        "colab": {
          "base_uri": "https://localhost:8080/",
          "height": 34
        }
      },
      "source": [
        "result[4,2]-result[4,0]"
      ],
      "execution_count": 0,
      "outputs": [
        {
          "output_type": "execute_result",
          "data": {
            "text/plain": [
              "24000"
            ]
          },
          "metadata": {
            "tags": []
          },
          "execution_count": 16
        }
      ]
    },
    {
      "cell_type": "code",
      "metadata": {
        "id": "2QxXDGcmwdbH",
        "colab_type": "code",
        "outputId": "50e689d3-5f34-4d8d-bbdc-4fc99d4b3d79",
        "colab": {
          "base_uri": "https://localhost:8080/",
          "height": 34
        }
      },
      "source": [
        "result[5,2]-result[5,0]"
      ],
      "execution_count": 0,
      "outputs": [
        {
          "output_type": "execute_result",
          "data": {
            "text/plain": [
              "51391"
            ]
          },
          "metadata": {
            "tags": []
          },
          "execution_count": 17
        }
      ]
    },
    {
      "cell_type": "code",
      "metadata": {
        "id": "EfO0XjkWwfCR",
        "colab_type": "code",
        "outputId": "ed8bedab-3e59-48aa-da6f-d039ba1ac97f",
        "colab": {
          "base_uri": "https://localhost:8080/",
          "height": 34
        }
      },
      "source": [
        "#Variance for Capital One in Sports is only 0.5%\n",
        "(result[6,1]-result[6,0])/0.5"
      ],
      "execution_count": 0,
      "outputs": [
        {
          "output_type": "execute_result",
          "data": {
            "text/plain": [
              "27392.0"
            ]
          },
          "metadata": {
            "tags": []
          },
          "execution_count": 18
        }
      ]
    },
    {
      "cell_type": "code",
      "metadata": {
        "id": "SxQrI2GHwhpw",
        "colab_type": "code",
        "outputId": "211b4cbd-2818-42d6-8322-e058ec8d064d",
        "colab": {
          "base_uri": "https://localhost:8080/",
          "height": 34
        }
      },
      "source": [
        "result[7,2]-result[7,0]"
      ],
      "execution_count": 0,
      "outputs": [
        {
          "output_type": "execute_result",
          "data": {
            "text/plain": [
              "20609"
            ]
          },
          "metadata": {
            "tags": []
          },
          "execution_count": 19
        }
      ]
    },
    {
      "cell_type": "code",
      "metadata": {
        "id": "qlivZRuh9G3X",
        "colab_type": "code",
        "outputId": "c1df3fd8-f9f9-4852-ca48-ca7ffc0c6f83",
        "colab": {
          "base_uri": "https://localhost:8080/",
          "height": 595
        }
      },
      "source": [
        "import matplotlib.pyplot as plt\n",
        "plt.figure(figsize=(10,10))\n",
        "plt.plot(result[0,], label='Geico Sports - 68609')\n",
        "plt.plot(result[1,], label='Geico National - 24000')\n",
        "plt.plot(result[2,], label='Delta Sports - 24000')\n",
        "plt.plot(result[3,], label='Delta National - 24000')\n",
        "plt.plot(result[4,], label='T-Mobile Sports - 24000')\n",
        "plt.plot(result[5,], label='T-Mobile National - 51391')\n",
        "plt.plot(result[6,], label='Capital One Sports - 27392')\n",
        "plt.plot(result[7,], label='Capital One National - 20609')\n",
        "\n",
        "legend = plt.legend(loc='upper left', shadow=True, fontsize='x-large')\n",
        "\n",
        "\n",
        "plt.ylabel('Objective Function Value')\n",
        "plt.show()"
      ],
      "execution_count": 0,
      "outputs": [
        {
          "output_type": "display_data",
          "data": {
            "image/png": "[encoded data removed]",
            "text/plain": [
              "<Figure size 720x720 with 1 Axes>"
            ]
          },
          "metadata": {
            "tags": []
          }
        }
      ]
    },
    {
      "cell_type": "markdown",
      "metadata": {
        "id": "AnVfdOmXyo1o",
        "colab_type": "text"
      },
      "source": [
        "## Sensitivity Analysis Conclustion\n"
      ]
    },
    {
      "cell_type": "markdown",
      "metadata": {
        "id": "-kmUaiwey5Wn",
        "colab_type": "text"
      },
      "source": [
        "Based on the line plot and the calculated value of each line's slope above, we can see that the objective function value is most sensitive to changes of click-through rate of Geico in Sports section, followed by T-Mobile in National sections, and is least sensitive to Capital One in National section. It would be helpful if The Washington Post can work with Geico on designing more attractive advertisement in Sports section since it is the strongest revenue generator. "
      ]
    }
  ]
}