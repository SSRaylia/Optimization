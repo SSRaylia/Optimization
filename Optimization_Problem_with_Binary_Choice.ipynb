{
  "nbformat": 4,
  "nbformat_minor": 0,
  "metadata": {
    "colab": {
      "name": "Optimization Problem with Binary Choice",
      "version": "0.3.2",
      "provenance": [],
      "collapsed_sections": [],
      "include_colab_link": true
    },
    "kernelspec": {
      "name": "python3",
      "display_name": "Python 3"
    }
  },
  "cells": [
    {
      "cell_type": "markdown",
      "metadata": {
        "id": "view-in-github",
        "colab_type": "text"
      },
      "source": [
        "<a href=\"https://colab.research.google.com/github/SSRaylia/Optimization/blob/master/Optimization_Problem_with_Binary_Choice.ipynb\" target=\"_parent\"><img src=\"https://colab.research.google.com/assets/colab-badge.svg\" alt=\"Open In Colab\"/></a>"
      ]
    },
    {
      "cell_type": "markdown",
      "metadata": {
        "id": "0Dr-eQclbYiC",
        "colab_type": "text"
      },
      "source": [
        "# Background"
      ]
    },
    {
      "cell_type": "markdown",
      "metadata": {
        "id": "XVzSHvS3baed",
        "colab_type": "text"
      },
      "source": [
        "LQM is a middle-sized hotel chain that is considering expanding to more locations. LQM used data on 75 existing inn locations to build a linear regression model to predict “Profitability”, computed at the operating margin, or earnings before interest and taxes divided by total revenue. They tried many independent variables and came up with the final model\n",
        "\n",
        "\\begin{equation}\n",
        "Profitability = 39.05 - 5.41 \\times State Population per Inn + 5.86 \\times Price of the Inn - 3.09 \\times Square Root of the Median Income in the Area + 1.75 \\times College Students in the Area\n",
        "\\end{equation}\n",
        "\n",
        "All independent variables are significant and were normalized to have mean zero and standard deviation "
      ]
    },
    {
      "cell_type": "markdown",
      "metadata": {
        "id": "_F9G0TrBdnxO",
        "colab_type": "text"
      },
      "source": [
        "# A. Calculating Predicted Profitability for Each Hotel"
      ]
    },
    {
      "cell_type": "code",
      "metadata": {
        "id": "SiJME7OVcSNP",
        "colab_type": "code",
        "colab": {}
      },
      "source": [
        "import pandas as pd"
      ],
      "execution_count": 0,
      "outputs": []
    },
    {
      "cell_type": "code",
      "metadata": {
        "id": "lY00IE8A3CEX",
        "colab_type": "code",
        "colab": {}
      },
      "source": [
        "hotel = pd.read_csv('https://raw.githubusercontent.com/SSRaylia/homework/master/SelectingHotels%20MSBA.csv')"
      ],
      "execution_count": 0,
      "outputs": []
    },
    {
      "cell_type": "code",
      "metadata": {
        "id": "n46uUekE5jJC",
        "colab_type": "code",
        "outputId": "2a46a078-ca7c-4ce7-9027-ceaeacb9ca49",
        "colab": {
          "base_uri": "https://localhost:8080/",
          "height": 306
        }
      },
      "source": [
        "hotel.head()"
      ],
      "execution_count": 0,
      "outputs": [
        {
          "output_type": "execute_result",
          "data": {
            "text/html": [
              "<div>\n",
              "<style scoped>\n",
              "    .dataframe tbody tr th:only-of-type {\n",
              "        vertical-align: middle;\n",
              "    }\n",
              "\n",
              "    .dataframe tbody tr th {\n",
              "        vertical-align: top;\n",
              "    }\n",
              "\n",
              "    .dataframe thead th {\n",
              "        text-align: right;\n",
              "    }\n",
              "</style>\n",
              "<table border=\"1\" class=\"dataframe\">\n",
              "  <thead>\n",
              "    <tr style=\"text-align: right;\">\n",
              "      <th></th>\n",
              "      <th>Hotel</th>\n",
              "      <th>Location</th>\n",
              "      <th>Price</th>\n",
              "      <th>Price (normalized)</th>\n",
              "      <th>Square Root of Median Income (normalized)</th>\n",
              "      <th>College Students in Area (normalized)</th>\n",
              "      <th>State Population Per Inn (normalized)</th>\n",
              "      <th>Predicted Profitability</th>\n",
              "    </tr>\n",
              "  </thead>\n",
              "  <tbody>\n",
              "    <tr>\n",
              "      <th>0</th>\n",
              "      <td>1</td>\n",
              "      <td>Eureka, California</td>\n",
              "      <td>2925000</td>\n",
              "      <td>-0.30</td>\n",
              "      <td>-0.81</td>\n",
              "      <td>-0.54</td>\n",
              "      <td>-1.00</td>\n",
              "      <td>44.24</td>\n",
              "    </tr>\n",
              "    <tr>\n",
              "      <th>1</th>\n",
              "      <td>2</td>\n",
              "      <td>Fresno, California</td>\n",
              "      <td>10000000</td>\n",
              "      <td>1.70</td>\n",
              "      <td>-0.41</td>\n",
              "      <td>0.31</td>\n",
              "      <td>-0.47</td>\n",
              "      <td>53.38</td>\n",
              "    </tr>\n",
              "    <tr>\n",
              "      <th>2</th>\n",
              "      <td>3</td>\n",
              "      <td>Fresno, California</td>\n",
              "      <td>3750000</td>\n",
              "      <td>-0.07</td>\n",
              "      <td>-0.41</td>\n",
              "      <td>0.31</td>\n",
              "      <td>-0.47</td>\n",
              "      <td>43.02</td>\n",
              "    </tr>\n",
              "    <tr>\n",
              "      <th>3</th>\n",
              "      <td>4</td>\n",
              "      <td>Fresno, California</td>\n",
              "      <td>3500000</td>\n",
              "      <td>-0.14</td>\n",
              "      <td>-0.41</td>\n",
              "      <td>0.31</td>\n",
              "      <td>-0.47</td>\n",
              "      <td>42.61</td>\n",
              "    </tr>\n",
              "    <tr>\n",
              "      <th>4</th>\n",
              "      <td>5</td>\n",
              "      <td>Fresno, California</td>\n",
              "      <td>325000</td>\n",
              "      <td>-1.04</td>\n",
              "      <td>-0.41</td>\n",
              "      <td>0.31</td>\n",
              "      <td>-0.47</td>\n",
              "      <td>37.34</td>\n",
              "    </tr>\n",
              "  </tbody>\n",
              "</table>\n",
              "</div>"
            ],
            "text/plain": [
              "   Hotel            Location     Price  Price (normalized)  \\\n",
              "0      1  Eureka, California   2925000               -0.30   \n",
              "1      2  Fresno, California  10000000                1.70   \n",
              "2      3  Fresno, California   3750000               -0.07   \n",
              "3      4  Fresno, California   3500000               -0.14   \n",
              "4      5  Fresno, California    325000               -1.04   \n",
              "\n",
              "   Square Root of Median Income (normalized)  \\\n",
              "0                                      -0.81   \n",
              "1                                      -0.41   \n",
              "2                                      -0.41   \n",
              "3                                      -0.41   \n",
              "4                                      -0.41   \n",
              "\n",
              "   College Students in Area (normalized)  \\\n",
              "0                                  -0.54   \n",
              "1                                   0.31   \n",
              "2                                   0.31   \n",
              "3                                   0.31   \n",
              "4                                   0.31   \n",
              "\n",
              "   State Population Per Inn (normalized)  Predicted Profitability  \n",
              "0                                  -1.00                    44.24  \n",
              "1                                  -0.47                    53.38  \n",
              "2                                  -0.47                    43.02  \n",
              "3                                  -0.47                    42.61  \n",
              "4                                  -0.47                    37.34  "
            ]
          },
          "metadata": {
            "tags": []
          },
          "execution_count": 40
        }
      ]
    },
    {
      "cell_type": "code",
      "metadata": {
        "id": "QBzAetnm5lsz",
        "colab_type": "code",
        "colab": {}
      },
      "source": [
        "Predicted_Profitability = 39.05 - 5.41*hotel[\"State Population Per Inn (normalized)\"] +5.86*hotel[\"Price (normalized)\"]-3.09*hotel[\"Square Root of Median Income (normalized)\"] +1.75*hotel[\"College Students in Area (normalized)\"]"
      ],
      "execution_count": 0,
      "outputs": []
    },
    {
      "cell_type": "code",
      "metadata": {
        "id": "SW__q9y16GOy",
        "colab_type": "code",
        "colab": {}
      },
      "source": [
        "hotel[\"Predicted_Profitability\"] = Predicted_Profitability"
      ],
      "execution_count": 0,
      "outputs": []
    },
    {
      "cell_type": "code",
      "metadata": {
        "id": "DAtAQV_96Lts",
        "colab_type": "code",
        "outputId": "fc2e82d0-00e5-4eb3-d0f1-0b4a20f8b94e",
        "colab": {
          "base_uri": "https://localhost:8080/",
          "height": 323
        }
      },
      "source": [
        "hotel.head()"
      ],
      "execution_count": 0,
      "outputs": [
        {
          "output_type": "execute_result",
          "data": {
            "text/html": [
              "<div>\n",
              "<style scoped>\n",
              "    .dataframe tbody tr th:only-of-type {\n",
              "        vertical-align: middle;\n",
              "    }\n",
              "\n",
              "    .dataframe tbody tr th {\n",
              "        vertical-align: top;\n",
              "    }\n",
              "\n",
              "    .dataframe thead th {\n",
              "        text-align: right;\n",
              "    }\n",
              "</style>\n",
              "<table border=\"1\" class=\"dataframe\">\n",
              "  <thead>\n",
              "    <tr style=\"text-align: right;\">\n",
              "      <th></th>\n",
              "      <th>Hotel</th>\n",
              "      <th>Location</th>\n",
              "      <th>Price</th>\n",
              "      <th>Price (normalized)</th>\n",
              "      <th>Square Root of Median Income (normalized)</th>\n",
              "      <th>College Students in Area (normalized)</th>\n",
              "      <th>State Population Per Inn (normalized)</th>\n",
              "      <th>Predicted Profitability</th>\n",
              "      <th>Predicted_Profitability</th>\n",
              "    </tr>\n",
              "  </thead>\n",
              "  <tbody>\n",
              "    <tr>\n",
              "      <th>0</th>\n",
              "      <td>1</td>\n",
              "      <td>Eureka, California</td>\n",
              "      <td>2925000</td>\n",
              "      <td>-0.30</td>\n",
              "      <td>-0.81</td>\n",
              "      <td>-0.54</td>\n",
              "      <td>-1.00</td>\n",
              "      <td>44.24</td>\n",
              "      <td>44.2599</td>\n",
              "    </tr>\n",
              "    <tr>\n",
              "      <th>1</th>\n",
              "      <td>2</td>\n",
              "      <td>Fresno, California</td>\n",
              "      <td>10000000</td>\n",
              "      <td>1.70</td>\n",
              "      <td>-0.41</td>\n",
              "      <td>0.31</td>\n",
              "      <td>-0.47</td>\n",
              "      <td>53.38</td>\n",
              "      <td>53.3641</td>\n",
              "    </tr>\n",
              "    <tr>\n",
              "      <th>2</th>\n",
              "      <td>3</td>\n",
              "      <td>Fresno, California</td>\n",
              "      <td>3750000</td>\n",
              "      <td>-0.07</td>\n",
              "      <td>-0.41</td>\n",
              "      <td>0.31</td>\n",
              "      <td>-0.47</td>\n",
              "      <td>43.02</td>\n",
              "      <td>42.9919</td>\n",
              "    </tr>\n",
              "    <tr>\n",
              "      <th>3</th>\n",
              "      <td>4</td>\n",
              "      <td>Fresno, California</td>\n",
              "      <td>3500000</td>\n",
              "      <td>-0.14</td>\n",
              "      <td>-0.41</td>\n",
              "      <td>0.31</td>\n",
              "      <td>-0.47</td>\n",
              "      <td>42.61</td>\n",
              "      <td>42.5817</td>\n",
              "    </tr>\n",
              "    <tr>\n",
              "      <th>4</th>\n",
              "      <td>5</td>\n",
              "      <td>Fresno, California</td>\n",
              "      <td>325000</td>\n",
              "      <td>-1.04</td>\n",
              "      <td>-0.41</td>\n",
              "      <td>0.31</td>\n",
              "      <td>-0.47</td>\n",
              "      <td>37.34</td>\n",
              "      <td>37.3077</td>\n",
              "    </tr>\n",
              "  </tbody>\n",
              "</table>\n",
              "</div>"
            ],
            "text/plain": [
              "   Hotel            Location     Price  Price (normalized)  \\\n",
              "0      1  Eureka, California   2925000               -0.30   \n",
              "1      2  Fresno, California  10000000                1.70   \n",
              "2      3  Fresno, California   3750000               -0.07   \n",
              "3      4  Fresno, California   3500000               -0.14   \n",
              "4      5  Fresno, California    325000               -1.04   \n",
              "\n",
              "   Square Root of Median Income (normalized)  \\\n",
              "0                                      -0.81   \n",
              "1                                      -0.41   \n",
              "2                                      -0.41   \n",
              "3                                      -0.41   \n",
              "4                                      -0.41   \n",
              "\n",
              "   College Students in Area (normalized)  \\\n",
              "0                                  -0.54   \n",
              "1                                   0.31   \n",
              "2                                   0.31   \n",
              "3                                   0.31   \n",
              "4                                   0.31   \n",
              "\n",
              "   State Population Per Inn (normalized)  Predicted Profitability  \\\n",
              "0                                  -1.00                    44.24   \n",
              "1                                  -0.47                    53.38   \n",
              "2                                  -0.47                    43.02   \n",
              "3                                  -0.47                    42.61   \n",
              "4                                  -0.47                    37.34   \n",
              "\n",
              "   Predicted_Profitability  \n",
              "0                  44.2599  \n",
              "1                  53.3641  \n",
              "2                  42.9919  \n",
              "3                  42.5817  \n",
              "4                  37.3077  "
            ]
          },
          "metadata": {
            "tags": []
          },
          "execution_count": 76
        }
      ]
    },
    {
      "cell_type": "markdown",
      "metadata": {
        "id": "udlztoaZcfCs",
        "colab_type": "text"
      },
      "source": [
        "# B. Build an Optimization Model to Select Hotels to Buy With the Budget Given.\n",
        "\n",
        "**Assume we have a budget of 10 Million.**"
      ]
    },
    {
      "cell_type": "markdown",
      "metadata": {
        "id": "mRV_dkwjiQu6",
        "colab_type": "text"
      },
      "source": [
        "The objective is to maximize predicted profitability with constraint in budget. Denote xi as hotel i, ci as the predicted profitability of each hotel, pi as the price for each hotel.\n",
        "\n",
        "\\begin{equation}\n",
        "Max\\quad\\sum_{i=1}^{16} c_{i} x_{i}   \\quad\\forall i\\in\\{1,...,16\\}\\\\\n",
        "\\end{equation}\n",
        "s.t.\n",
        "\\begin{equation}\n",
        "\\sum_{i=1}^{16}   p_{i}x_{i} \\leq 10000000 \\quad\\forall i\\in\\{1,...,16\\}\\\\\n",
        "\\end{equation}\n",
        "\\begin{equation}\n",
        "x_{i}=\\{0,1\\}\n",
        "\\end{equation}"
      ]
    },
    {
      "cell_type": "code",
      "metadata": {
        "id": "9vAJNJzUlbH-",
        "colab_type": "code",
        "outputId": "00c47fd6-60f9-4acd-c4b5-a3b93247abfd",
        "colab": {
          "base_uri": "https://localhost:8080/",
          "height": 51
        }
      },
      "source": [
        "import cvxpy as cvx\n",
        "from cvxpy import *\n",
        "\n",
        "x=cvx.Variable(16,boolean=True)\n",
        "\n",
        "objective = cvx.Maximize(sum(cvx.multiply(hotel[\"Predicted_Profitability\"],x))) \n",
        "c1= (2.925*x[0]+10*x[1]+3.75*x[2]+3.5*x[3]+0.325*x[4]+8.95*x[5]+1.95*x[6]+1.75*x[7]+4.9*x[8]\n",
        "     +1.65*x[9]+1.125*x[10]+2.5*x[11]+1.975*x[12]+3.75*x[13]+1.475*x[14]+0.75*x[15] <= 10)\n",
        "con = [c1]\n",
        "prob = cvx.Problem(objective, con)\n",
        "result = prob.solve()\n",
        "x.value\n",
        "np.round(x.value)"
      ],
      "execution_count": 0,
      "outputs": [
        {
          "output_type": "execute_result",
          "data": {
            "text/plain": [
              "array([ 0., -0.,  0.,  0.,  1., -0.,  0.,  0., -0.,  1.,  1.,  1.,  1.,\n",
              "        0.,  1.,  1.])"
            ]
          },
          "metadata": {
            "tags": []
          },
          "execution_count": 66
        }
      ]
    },
    {
      "cell_type": "code",
      "metadata": {
        "id": "z4CuuUUe9Y_2",
        "colab_type": "code",
        "outputId": "a1ff52db-f2f1-486c-97eb-a71660425474",
        "colab": {
          "base_uri": "https://localhost:8080/",
          "height": 34
        }
      },
      "source": [
        "result"
      ],
      "execution_count": 0,
      "outputs": [
        {
          "output_type": "execute_result",
          "data": {
            "text/plain": [
              "270.0497002080151"
            ]
          },
          "metadata": {
            "tags": []
          },
          "execution_count": 69
        }
      ]
    },
    {
      "cell_type": "markdown",
      "metadata": {
        "id": "IG0_JST4sJFe",
        "colab_type": "text"
      },
      "source": [
        "**Thus, we will buy hotel no.5, 10,11,12,13,15, and 16, the total predicted profitability will be 270.05.**"
      ]
    },
    {
      "cell_type": "markdown",
      "metadata": {
        "id": "qrzEDCxpdAvb",
        "colab_type": "text"
      },
      "source": [
        "# C. Adding Constrains: Maximum Number of Hotels Purchased in Any City to at Most 2"
      ]
    },
    {
      "cell_type": "markdown",
      "metadata": {
        "id": "21fe5c99teVw",
        "colab_type": "text"
      },
      "source": [
        "**New Optimization Model**\n",
        "\n",
        "The objective is to maximize predicted profitability with constraint in budget. Denote xi as hotel i, ci as the predicted profitability of each hotel, pi as the price for each hotel.\n",
        "\n",
        "\\begin{equation}\n",
        "Max\\quad\\sum_{i=1}^{16} c_{i} x_{i}   \\quad\\forall i\\in\\{1,...,16\\}\n",
        "\\end{equation}\n",
        "s.t.\n",
        "\\begin{equation}\n",
        "\\sum_{i=1}^{16}   p_{i}x_{i} \\leq 10000000 \\quad\\forall i\\in\\{1,...,16\\}\\\\\n",
        "\\sum_{i=1}^5 x_{i}\\leq 2 \\quad\\forall i\\in\\{1,...,5\\}\\\\\n",
        "\\sum_{i=7}^9 x_{i}\\leq 2 \\quad\\forall i\\in\\{7, 8, 9\\}\\\\\n",
        "\\sum_{i=10}^{16} x_{i}\\leq 2\\quad\\forall i\\in\\{10,...,16\\}\\\\\n",
        "\\end{equation}\n",
        "\\begin{equation}\n",
        "x_{i}=\\{0,1\\}\n",
        "\\end{equation}"
      ]
    },
    {
      "cell_type": "code",
      "metadata": {
        "id": "TJGcg8KCuVEj",
        "colab_type": "code",
        "outputId": "5d2603e5-1afa-4582-dfe9-e1f88e41a1b3",
        "colab": {
          "base_uri": "https://localhost:8080/",
          "height": 34
        }
      },
      "source": [
        "x=cvx.Variable(16,boolean=True)\n",
        "\n",
        "objective = cvx.Maximize(sum(cvx.multiply(hotel[\"Predicted_Profitability\"],x))) \n",
        "c1= (2.925*x[0]+10*x[1]+3.75*x[2]+3.5*x[3]+0.325*x[4]+8.95*x[5]+1.95*x[6]+1.75*x[7]+4.9*x[8]\n",
        "     +1.65*x[9]+1.125*x[10]+2.5*x[11]+1.975*x[12]+3.75*x[13]+1.475*x[14]+0.75*x[15] <= 10)\n",
        "c2= (x[0]+x[1]+x[2]+x[3]+x[4] <=2)\n",
        "c3= (x[6]+x[7]+x[8] <=2)\n",
        "c4= (x[9]+x[10]+x[11]+x[12]+x[13]+x[14]+x[15] <=2)\n",
        "con = [c1,c2,c3,c4]\n",
        "prob = cvx.Problem(objective, con)\n",
        "result = prob.solve()\n",
        "x.value\n",
        "np.round(x.value)"
      ],
      "execution_count": 0,
      "outputs": [
        {
          "output_type": "execute_result",
          "data": {
            "text/plain": [
              "array([1., 0., 0., 0., 1., 0., 1., 1., 0., 1., 1., 0., 0., 0., 0., 0.])"
            ]
          },
          "metadata": {
            "tags": []
          },
          "execution_count": 72
        }
      ]
    },
    {
      "cell_type": "code",
      "metadata": {
        "id": "aKTYmNIiASL8",
        "colab_type": "code",
        "outputId": "49e22f46-62ad-4474-a7eb-521ab4f814d5",
        "colab": {
          "base_uri": "https://localhost:8080/",
          "height": 34
        }
      },
      "source": [
        "result"
      ],
      "execution_count": 0,
      "outputs": [
        {
          "output_type": "execute_result",
          "data": {
            "text/plain": [
              "205.71680004527826"
            ]
          },
          "metadata": {
            "tags": []
          },
          "execution_count": 73
        }
      ]
    },
    {
      "cell_type": "markdown",
      "metadata": {
        "id": "5uNRmfc7vNcJ",
        "colab_type": "text"
      },
      "source": [
        "**Now we will only buy hotel no.1, 5, 7,8,10, and 11, and the optimal objective function value is 205.7, which is lower than before.**"
      ]
    }
  ]
}